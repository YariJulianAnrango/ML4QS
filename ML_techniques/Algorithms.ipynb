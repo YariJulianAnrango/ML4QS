{
 "cells": [
  {
   "cell_type": "code",
   "execution_count": 6,
   "metadata": {},
   "outputs": [],
   "source": [
    "from sklearn.neighbors import KNeighborsClassifier\n",
    "from sklearn.model_selection import GridSearchCV\n",
    "from sklearn.model_selection import train_test_split\n",
    "import pandas as pd"
   ]
  },
  {
   "cell_type": "code",
   "execution_count": 11,
   "metadata": {},
   "outputs": [
    {
     "data": {
      "text/html": [
       "<div>\n",
       "<style scoped>\n",
       "    .dataframe tbody tr th:only-of-type {\n",
       "        vertical-align: middle;\n",
       "    }\n",
       "\n",
       "    .dataframe tbody tr th {\n",
       "        vertical-align: top;\n",
       "    }\n",
       "\n",
       "    .dataframe thead th {\n",
       "        text-align: right;\n",
       "    }\n",
       "</style>\n",
       "<table border=\"1\" class=\"dataframe\">\n",
       "  <thead>\n",
       "    <tr style=\"text-align: right;\">\n",
       "      <th></th>\n",
       "      <th>start</th>\n",
       "      <th>end</th>\n",
       "      <th>value_steps</th>\n",
       "      <th>value_heart</th>\n",
       "      <th>value_workout</th>\n",
       "      <th>combined</th>\n",
       "    </tr>\n",
       "  </thead>\n",
       "  <tbody>\n",
       "    <tr>\n",
       "      <th>0</th>\n",
       "      <td>2022-01-01 00:00:00</td>\n",
       "      <td>2022-01-01 00:10:00</td>\n",
       "      <td>38.841808</td>\n",
       "      <td>82.0</td>\n",
       "      <td>no workout</td>\n",
       "      <td>5.0</td>\n",
       "    </tr>\n",
       "    <tr>\n",
       "      <th>1</th>\n",
       "      <td>2022-01-01 00:10:00</td>\n",
       "      <td>2022-01-01 00:20:00</td>\n",
       "      <td>156.509531</td>\n",
       "      <td>77.5</td>\n",
       "      <td>no workout</td>\n",
       "      <td>5.0</td>\n",
       "    </tr>\n",
       "    <tr>\n",
       "      <th>2</th>\n",
       "      <td>2022-01-01 00:20:00</td>\n",
       "      <td>2022-01-01 00:30:00</td>\n",
       "      <td>97.817536</td>\n",
       "      <td>78.5</td>\n",
       "      <td>no workout</td>\n",
       "      <td>5.0</td>\n",
       "    </tr>\n",
       "    <tr>\n",
       "      <th>3</th>\n",
       "      <td>2022-01-01 00:30:00</td>\n",
       "      <td>2022-01-01 00:40:00</td>\n",
       "      <td>53.407172</td>\n",
       "      <td>73.5</td>\n",
       "      <td>no workout</td>\n",
       "      <td>5.0</td>\n",
       "    </tr>\n",
       "    <tr>\n",
       "      <th>4</th>\n",
       "      <td>2022-01-01 00:40:00</td>\n",
       "      <td>2022-01-01 00:50:00</td>\n",
       "      <td>0.000000</td>\n",
       "      <td>75.5</td>\n",
       "      <td>no workout</td>\n",
       "      <td>5.0</td>\n",
       "    </tr>\n",
       "    <tr>\n",
       "      <th>...</th>\n",
       "      <td>...</td>\n",
       "      <td>...</td>\n",
       "      <td>...</td>\n",
       "      <td>...</td>\n",
       "      <td>...</td>\n",
       "      <td>...</td>\n",
       "    </tr>\n",
       "    <tr>\n",
       "      <th>75020</th>\n",
       "      <td>2023-06-05 23:20:00</td>\n",
       "      <td>2023-06-05 23:30:00</td>\n",
       "      <td>0.000000</td>\n",
       "      <td>60.5</td>\n",
       "      <td>no workout</td>\n",
       "      <td>5.0</td>\n",
       "    </tr>\n",
       "    <tr>\n",
       "      <th>75021</th>\n",
       "      <td>2023-06-05 23:30:00</td>\n",
       "      <td>2023-06-05 23:40:00</td>\n",
       "      <td>0.000000</td>\n",
       "      <td>61.0</td>\n",
       "      <td>no workout</td>\n",
       "      <td>5.0</td>\n",
       "    </tr>\n",
       "    <tr>\n",
       "      <th>75022</th>\n",
       "      <td>2023-06-05 23:40:00</td>\n",
       "      <td>2023-06-05 23:50:00</td>\n",
       "      <td>0.000000</td>\n",
       "      <td>61.0</td>\n",
       "      <td>no workout</td>\n",
       "      <td>5.0</td>\n",
       "    </tr>\n",
       "    <tr>\n",
       "      <th>75023</th>\n",
       "      <td>2023-06-05 23:50:00</td>\n",
       "      <td>2023-06-06 00:00:00</td>\n",
       "      <td>0.000000</td>\n",
       "      <td>61.0</td>\n",
       "      <td>no workout</td>\n",
       "      <td>5.0</td>\n",
       "    </tr>\n",
       "    <tr>\n",
       "      <th>75024</th>\n",
       "      <td>2023-06-06 00:00:00</td>\n",
       "      <td>2023-06-06 00:10:00</td>\n",
       "      <td>0.000000</td>\n",
       "      <td>59.5</td>\n",
       "      <td>no workout</td>\n",
       "      <td>5.0</td>\n",
       "    </tr>\n",
       "  </tbody>\n",
       "</table>\n",
       "<p>75025 rows × 6 columns</p>\n",
       "</div>"
      ],
      "text/plain": [
       "                     start                  end  value_steps  value_heart  \\\n",
       "0      2022-01-01 00:00:00  2022-01-01 00:10:00    38.841808         82.0   \n",
       "1      2022-01-01 00:10:00  2022-01-01 00:20:00   156.509531         77.5   \n",
       "2      2022-01-01 00:20:00  2022-01-01 00:30:00    97.817536         78.5   \n",
       "3      2022-01-01 00:30:00  2022-01-01 00:40:00    53.407172         73.5   \n",
       "4      2022-01-01 00:40:00  2022-01-01 00:50:00     0.000000         75.5   \n",
       "...                    ...                  ...          ...          ...   \n",
       "75020  2023-06-05 23:20:00  2023-06-05 23:30:00     0.000000         60.5   \n",
       "75021  2023-06-05 23:30:00  2023-06-05 23:40:00     0.000000         61.0   \n",
       "75022  2023-06-05 23:40:00  2023-06-05 23:50:00     0.000000         61.0   \n",
       "75023  2023-06-05 23:50:00  2023-06-06 00:00:00     0.000000         61.0   \n",
       "75024  2023-06-06 00:00:00  2023-06-06 00:10:00     0.000000         59.5   \n",
       "\n",
       "      value_workout  combined  \n",
       "0        no workout       5.0  \n",
       "1        no workout       5.0  \n",
       "2        no workout       5.0  \n",
       "3        no workout       5.0  \n",
       "4        no workout       5.0  \n",
       "...             ...       ...  \n",
       "75020    no workout       5.0  \n",
       "75021    no workout       5.0  \n",
       "75022    no workout       5.0  \n",
       "75023    no workout       5.0  \n",
       "75024    no workout       5.0  \n",
       "\n",
       "[75025 rows x 6 columns]"
      ]
     },
     "metadata": {},
     "output_type": "display_data"
    }
   ],
   "source": [
    "New_weather_steps = pd.read_csv(\"Missing_weather_steps.csv\")\n",
    "New_weather_steps = New_weather_steps.drop(\"Unnamed: 0\",axis=1)\n",
    "display(New_weather_steps)"
   ]
  },
  {
   "attachments": {},
   "cell_type": "markdown",
   "metadata": {},
   "source": [
    "Splitting method"
   ]
  },
  {
   "cell_type": "code",
   "execution_count": 9,
   "metadata": {},
   "outputs": [],
   "source": [
    "#Stratified Split\n",
    "X = New_weather_steps.drop(columns=['combined', 'start'])\n",
    "y = New_weather_steps['combined']  \n",
    "train_X, test_X, train_y, test_y= train_test_split(X, y, test_size=0.2, random_state=42)"
   ]
  },
  {
   "cell_type": "code",
   "execution_count": 13,
   "metadata": {},
   "outputs": [],
   "source": [
    "#k-fold cross validation\n",
    "from sklearn.model_selection import KFold\n",
    "\n",
    "X = New_weather_steps.drop(columns=['combined', 'start'])\n",
    "y = New_weather_steps['combined']  \n",
    "k = 5\n",
    "\n",
    "# Initialize the KFold object\n",
    "kf = KFold(n_splits=k, shuffle=True, random_state=42)\n",
    "\n",
    "# Iterate over the splits\n",
    "for train_index , test_index in kf.split(X):\n",
    "    X_train , X_test = X.iloc[train_index,:],X.iloc[test_index,:]\n",
    "    y_train , y_test = y[train_index] , y[test_index]"
   ]
  },
  {
   "attachments": {},
   "cell_type": "markdown",
   "metadata": {},
   "source": [
    "KNN"
   ]
  },
  {
   "cell_type": "code",
   "execution_count": 12,
   "metadata": {},
   "outputs": [],
   "source": [
    "def k_nearest_neighbor(train_X, train_y, test_X, n_neighbors=5, gridsearch=True, print_model_details=False):\n",
    "        # Create the model\n",
    "        if gridsearch:\n",
    "            tuned_parameters = [{'n_neighbors': [1, 2, 5, 10]}]\n",
    "            knn = GridSearchCV(KNeighborsClassifier(), tuned_parameters, cv=5, scoring='accuracy')\n",
    "        else:\n",
    "            knn = KNeighborsClassifier(n_neighbors=n_neighbors)\n",
    "\n",
    "        # Fit the model\n",
    "        knn.fit(train_X, train_y.values.ravel())\n",
    "\n",
    "        if gridsearch and print_model_details:\n",
    "            print(knn.best_params_)\n",
    "\n",
    "        if gridsearch:\n",
    "            knn = knn.best_estimator_\n",
    "\n",
    "        # Apply the model\n",
    "        pred_prob_training_y = knn.predict_proba(train_X)\n",
    "        pred_prob_test_y = knn.predict_proba(test_X)\n",
    "        pred_training_y = knn.predict(train_X)\n",
    "        pred_test_y = knn.predict(test_X)\n",
    "        frame_prob_training_y = pd.DataFrame(pred_prob_training_y, columns=knn.classes_)\n",
    "        frame_prob_test_y = pd.DataFrame(pred_prob_test_y, columns=knn.classes_)\n",
    "\n",
    "        return pred_training_y, pred_test_y, frame_prob_training_y, frame_prob_test_y"
   ]
  },
  {
   "attachments": {},
   "cell_type": "markdown",
   "metadata": {},
   "source": [
    "SVM"
   ]
  },
  {
   "cell_type": "code",
   "execution_count": null,
   "metadata": {},
   "outputs": [
    {
     "name": "stdout",
     "output_type": "stream",
     "text": [
      "1\n"
     ]
    },
    {
     "ename": "",
     "evalue": "",
     "output_type": "error",
     "traceback": [
      "\u001b[1;31mCannot execute code, session has been disposed. Please try restarting the Kernel."
     ]
    },
    {
     "ename": "",
     "evalue": "",
     "output_type": "error",
     "traceback": [
      "\u001b[1;31mThe Kernel crashed while executing code in the the current cell or a previous cell. Please review the code in the cell(s) to identify a possible cause of the failure. Click <a href='https://aka.ms/vscodeJupyterKernelCrash'>here</a> for more info. View Jupyter <a href='command:jupyter.viewOutput'>log</a> for further details."
     ]
    }
   ],
   "source": [
    "#Check if my data is linearly separable\n",
    "from sklearn.svm import SVC\n",
    "\n",
    "clf = SVC(C=1.0, kernel='linear', random_state=0)\n",
    "print(\"1\")\n",
    "clf.fit(train_X, train_y)\n",
    "print(\"2\")\n",
    "y_pred = clf.predict(test_X)\n",
    "print(\"3\")\n",
    "accuracy = (y_pred == test_y).mean()\n",
    "print(\"4\")\n",
    "\n",
    "print(accuracy)\n"
   ]
  },
  {
   "cell_type": "code",
   "execution_count": 4,
   "metadata": {},
   "outputs": [
    {
     "ename": "NameError",
     "evalue": "name 'k_nearest_neighbor' is not defined",
     "output_type": "error",
     "traceback": [
      "\u001b[1;31m---------------------------------------------------------------------------\u001b[0m",
      "\u001b[1;31mNameError\u001b[0m                                 Traceback (most recent call last)",
      "\u001b[1;32mc:\\Users\\irene\\OneDrive\\Bureaublad\\ML\\ML4QS\\ML_techniques\\Algorithms.ipynb Cell 9\u001b[0m in \u001b[0;36m<module>\u001b[1;34m\u001b[0m\n\u001b[1;32m----> <a href='vscode-notebook-cell:/c%3A/Users/irene/OneDrive/Bureaublad/ML/ML4QS/ML_techniques/Algorithms.ipynb#W6sZmlsZQ%3D%3D?line=0'>1</a>\u001b[0m k_nearest_neighbor(train_X, train_y, test_X, n_neighbors\u001b[39m=\u001b[39m\u001b[39m5\u001b[39m, gridsearch\u001b[39m=\u001b[39m\u001b[39mTrue\u001b[39;00m, print_model_details\u001b[39m=\u001b[39m\u001b[39mFalse\u001b[39;00m)\n",
      "\u001b[1;31mNameError\u001b[0m: name 'k_nearest_neighbor' is not defined"
     ]
    },
    {
     "ename": "",
     "evalue": "",
     "output_type": "error",
     "traceback": [
      "\u001b[1;31mThe Kernel crashed while executing code in the the current cell or a previous cell. Please review the code in the cell(s) to identify a possible cause of the failure. Click <a href='https://aka.ms/vscodeJupyterKernelCrash'>here</a> for more info. View Jupyter <a href='command:jupyter.viewOutput'>log</a> for further details."
     ]
    }
   ],
   "source": [
    "k_nearest_neighbor(train_X, train_y, test_X, n_neighbors=5, gridsearch=True, print_model_details=False)"
   ]
  },
  {
   "cell_type": "code",
   "execution_count": null,
   "metadata": {},
   "outputs": [],
   "source": []
  }
 ],
 "metadata": {
  "kernelspec": {
   "display_name": "Python 3",
   "language": "python",
   "name": "python3"
  },
  "language_info": {
   "codemirror_mode": {
    "name": "ipython",
    "version": 3
   },
   "file_extension": ".py",
   "mimetype": "text/x-python",
   "name": "python",
   "nbconvert_exporter": "python",
   "pygments_lexer": "ipython3",
   "version": "3.9.13"
  },
  "orig_nbformat": 4
 },
 "nbformat": 4,
 "nbformat_minor": 2
}
