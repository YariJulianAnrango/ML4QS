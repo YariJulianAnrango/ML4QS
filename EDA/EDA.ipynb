{
 "cells": [
  {
   "cell_type": "code",
   "execution_count": 1,
   "metadata": {},
   "outputs": [
    {
     "data": {
      "text/html": [
       "<div>\n",
       "<style scoped>\n",
       "    .dataframe tbody tr th:only-of-type {\n",
       "        vertical-align: middle;\n",
       "    }\n",
       "\n",
       "    .dataframe tbody tr th {\n",
       "        vertical-align: top;\n",
       "    }\n",
       "\n",
       "    .dataframe thead th {\n",
       "        text-align: right;\n",
       "    }\n",
       "</style>\n",
       "<table border=\"1\" class=\"dataframe\">\n",
       "  <thead>\n",
       "    <tr style=\"text-align: right;\">\n",
       "      <th></th>\n",
       "      <th>start</th>\n",
       "      <th>end</th>\n",
       "      <th>value_steps</th>\n",
       "      <th>value_heart</th>\n",
       "      <th>value_workout</th>\n",
       "      <th>combined</th>\n",
       "      <th>int_steps</th>\n",
       "    </tr>\n",
       "  </thead>\n",
       "  <tbody>\n",
       "    <tr>\n",
       "      <th>0</th>\n",
       "      <td>2022-01-01 00:00:00</td>\n",
       "      <td>2022-01-01 00:10:00</td>\n",
       "      <td>38.841808</td>\n",
       "      <td>82.0</td>\n",
       "      <td>no workout</td>\n",
       "      <td>5.0</td>\n",
       "      <td>38</td>\n",
       "    </tr>\n",
       "    <tr>\n",
       "      <th>1</th>\n",
       "      <td>2022-01-01 00:10:00</td>\n",
       "      <td>2022-01-01 00:20:00</td>\n",
       "      <td>156.509531</td>\n",
       "      <td>77.5</td>\n",
       "      <td>no workout</td>\n",
       "      <td>5.0</td>\n",
       "      <td>156</td>\n",
       "    </tr>\n",
       "    <tr>\n",
       "      <th>2</th>\n",
       "      <td>2022-01-01 00:20:00</td>\n",
       "      <td>2022-01-01 00:30:00</td>\n",
       "      <td>97.817536</td>\n",
       "      <td>78.5</td>\n",
       "      <td>no workout</td>\n",
       "      <td>5.0</td>\n",
       "      <td>97</td>\n",
       "    </tr>\n",
       "    <tr>\n",
       "      <th>3</th>\n",
       "      <td>2022-01-01 00:30:00</td>\n",
       "      <td>2022-01-01 00:40:00</td>\n",
       "      <td>53.407172</td>\n",
       "      <td>73.5</td>\n",
       "      <td>no workout</td>\n",
       "      <td>5.0</td>\n",
       "      <td>53</td>\n",
       "    </tr>\n",
       "    <tr>\n",
       "      <th>4</th>\n",
       "      <td>2022-01-01 00:40:00</td>\n",
       "      <td>2022-01-01 00:50:00</td>\n",
       "      <td>0.000000</td>\n",
       "      <td>75.5</td>\n",
       "      <td>no workout</td>\n",
       "      <td>5.0</td>\n",
       "      <td>0</td>\n",
       "    </tr>\n",
       "    <tr>\n",
       "      <th>...</th>\n",
       "      <td>...</td>\n",
       "      <td>...</td>\n",
       "      <td>...</td>\n",
       "      <td>...</td>\n",
       "      <td>...</td>\n",
       "      <td>...</td>\n",
       "      <td>...</td>\n",
       "    </tr>\n",
       "    <tr>\n",
       "      <th>75020</th>\n",
       "      <td>2023-06-05 23:20:00</td>\n",
       "      <td>2023-06-05 23:30:00</td>\n",
       "      <td>0.000000</td>\n",
       "      <td>60.5</td>\n",
       "      <td>no workout</td>\n",
       "      <td>5.0</td>\n",
       "      <td>0</td>\n",
       "    </tr>\n",
       "    <tr>\n",
       "      <th>75021</th>\n",
       "      <td>2023-06-05 23:30:00</td>\n",
       "      <td>2023-06-05 23:40:00</td>\n",
       "      <td>0.000000</td>\n",
       "      <td>61.0</td>\n",
       "      <td>no workout</td>\n",
       "      <td>5.0</td>\n",
       "      <td>0</td>\n",
       "    </tr>\n",
       "    <tr>\n",
       "      <th>75022</th>\n",
       "      <td>2023-06-05 23:40:00</td>\n",
       "      <td>2023-06-05 23:50:00</td>\n",
       "      <td>0.000000</td>\n",
       "      <td>61.0</td>\n",
       "      <td>no workout</td>\n",
       "      <td>5.0</td>\n",
       "      <td>0</td>\n",
       "    </tr>\n",
       "    <tr>\n",
       "      <th>75023</th>\n",
       "      <td>2023-06-05 23:50:00</td>\n",
       "      <td>2023-06-06 00:00:00</td>\n",
       "      <td>0.000000</td>\n",
       "      <td>61.0</td>\n",
       "      <td>no workout</td>\n",
       "      <td>5.0</td>\n",
       "      <td>0</td>\n",
       "    </tr>\n",
       "    <tr>\n",
       "      <th>75024</th>\n",
       "      <td>2023-06-06 00:00:00</td>\n",
       "      <td>2023-06-06 00:10:00</td>\n",
       "      <td>0.000000</td>\n",
       "      <td>59.5</td>\n",
       "      <td>no workout</td>\n",
       "      <td>5.0</td>\n",
       "      <td>0</td>\n",
       "    </tr>\n",
       "  </tbody>\n",
       "</table>\n",
       "<p>75025 rows × 7 columns</p>\n",
       "</div>"
      ],
      "text/plain": [
       "                     start                  end  value_steps  value_heart  \\\n",
       "0      2022-01-01 00:00:00  2022-01-01 00:10:00    38.841808         82.0   \n",
       "1      2022-01-01 00:10:00  2022-01-01 00:20:00   156.509531         77.5   \n",
       "2      2022-01-01 00:20:00  2022-01-01 00:30:00    97.817536         78.5   \n",
       "3      2022-01-01 00:30:00  2022-01-01 00:40:00    53.407172         73.5   \n",
       "4      2022-01-01 00:40:00  2022-01-01 00:50:00     0.000000         75.5   \n",
       "...                    ...                  ...          ...          ...   \n",
       "75020  2023-06-05 23:20:00  2023-06-05 23:30:00     0.000000         60.5   \n",
       "75021  2023-06-05 23:30:00  2023-06-05 23:40:00     0.000000         61.0   \n",
       "75022  2023-06-05 23:40:00  2023-06-05 23:50:00     0.000000         61.0   \n",
       "75023  2023-06-05 23:50:00  2023-06-06 00:00:00     0.000000         61.0   \n",
       "75024  2023-06-06 00:00:00  2023-06-06 00:10:00     0.000000         59.5   \n",
       "\n",
       "      value_workout  combined  int_steps  \n",
       "0        no workout       5.0         38  \n",
       "1        no workout       5.0        156  \n",
       "2        no workout       5.0         97  \n",
       "3        no workout       5.0         53  \n",
       "4        no workout       5.0          0  \n",
       "...             ...       ...        ...  \n",
       "75020    no workout       5.0          0  \n",
       "75021    no workout       5.0          0  \n",
       "75022    no workout       5.0          0  \n",
       "75023    no workout       5.0          0  \n",
       "75024    no workout       5.0          0  \n",
       "\n",
       "[75025 rows x 7 columns]"
      ]
     },
     "metadata": {},
     "output_type": "display_data"
    }
   ],
   "source": [
    "import pandas as pd\n",
    "\n",
    "#Create usefull dataframe\n",
    "New_weather_steps = pd.read_csv(\"Target_weather_steps.csv\")\n",
    "New_weather_steps = New_weather_steps.drop([\"Unnamed: 0\"] ,axis=1)\n",
    "#New_steps = weather_steps[['start', 'value_steps']]\n",
    "#New_weather = weather_steps.iloc[:, 7:35]\n",
    "#New_weather_steps = pd.concat([New_steps, New_weather], axis=1)\n",
    "\n",
    "#Create new column with steps as integers\n",
    "New_weather_steps[\"int_steps\"] = New_weather_steps[\"value_steps\"].astype(int)\n",
    "\n",
    "display(New_weather_steps)"
   ]
  },
  {
   "cell_type": "code",
   "execution_count": 16,
   "metadata": {},
   "outputs": [
    {
     "name": "stdout",
     "output_type": "stream",
     "text": [
      "start                0\n",
      "end                  0\n",
      "value_steps          0\n",
      "value_heart      48819\n",
      "value_workout        0\n",
      "combined             0\n",
      "int_steps            0\n",
      "dtype: int64\n"
     ]
    }
   ],
   "source": [
    "print(New_weather_steps.isna().sum())"
   ]
  },
  {
   "cell_type": "code",
   "execution_count": 8,
   "metadata": {},
   "outputs": [
    {
     "data": {
      "image/png": "[encoded data removed]",
      "text/plain": [
       "<Figure size 432x288 with 1 Axes>"
      ]
     },
     "metadata": {
      "needs_background": "light"
     },
     "output_type": "display_data"
    }
   ],
   "source": [
    "import matplotlib.pyplot as plt\n",
    "import numpy as np\n",
    "\n",
    "fig, ax = plt.subplots()\n",
    "\n",
    "data = New_weather_steps['int_steps']\n",
    "bin_width = 1\n",
    "\n",
    "# Calculate the bin edges\n",
    "bin_edges = np.arange(min(data), max(data) + bin_width, bin_width)\n",
    "\n",
    "ax.hist(data, bins=bin_edges, edgecolor='black')\n",
    "\n",
    "# Set x-axis and y-axis labels\n",
    "ax.set_xlabel('Number of steps')\n",
    "ax.set_ylabel('Frequency')\n",
    "\n",
    "# Set the title of the plot\n",
    "ax.set_title('The steps frequency')\n",
    "ax.set_xlim(0, 10)\n",
    "ax.set_ylim(0, 100)\n",
    "\n",
    "plt.show()"
   ]
  },
  {
   "cell_type": "code",
   "execution_count": 3,
   "metadata": {},
   "outputs": [
    {
     "data": {
      "image/png": "[encoded data removed]",
      "text/plain": [
       "<Figure size 432x288 with 1 Axes>"
      ]
     },
     "metadata": {
      "needs_background": "light"
     },
     "output_type": "display_data"
    }
   ],
   "source": [
    "import matplotlib.pyplot as plt\n",
    "import numpy as np\n",
    "\n",
    "fig, ax = plt.subplots()\n",
    "\n",
    "data = New_weather_steps['value_heart']\n",
    "bin_width = 1\n",
    "\n",
    "# Calculate the bin edges\n",
    "bin_edges = np.arange(min(data), max(data) + bin_width, bin_width)\n",
    "\n",
    "ax.hist(data, bins=bin_edges, edgecolor='black')\n",
    "\n",
    "# Set x-axis and y-axis labels\n",
    "ax.set_xlabel('Heartrate')\n",
    "ax.set_ylabel('Frequency')\n",
    "\n",
    "# Set the title of the plot\n",
    "ax.set_title('Heartrate frequency')\n",
    "#ax.set_xlim(0, 10)\n",
    "#ax.set_ylim(0, 100)\n",
    "\n",
    "plt.show()"
   ]
  },
  {
   "cell_type": "code",
   "execution_count": 92,
   "metadata": {},
   "outputs": [
    {
     "name": "stdout",
     "output_type": "stream",
     "text": [
      "21304\n",
      "19\n"
     ]
    }
   ],
   "source": [
    "#frequency of number of steps\n",
    "print(len(New_weather_steps[New_weather_steps['steps']<=0]))\n",
    "print(len(New_weather_steps[New_weather_steps['steps']<=600])- len(New_weather_steps[New_weather_steps['steps']<=500]))"
   ]
  },
  {
   "cell_type": "code",
   "execution_count": 4,
   "metadata": {},
   "outputs": [
    {
     "ename": "",
     "evalue": "",
     "output_type": "error",
     "traceback": [
      "\u001b[1;31mCannot execute code, session has been disposed. Please try restarting the Kernel."
     ]
    },
    {
     "ename": "",
     "evalue": "",
     "output_type": "error",
     "traceback": [
      "\u001b[1;31mThe Kernel crashed while executing code in the the current cell or a previous cell. Please review the code in the cell(s) to identify a possible cause of the failure. Click <a href='https://aka.ms/vscodeJupyterKernelCrash'>here</a> for more info. View Jupyter <a href='command:jupyter.viewOutput'>log</a> for further details."
     ]
    }
   ],
   "source": [
    "#Heel vaag. Eerst deed hij het wel goed (degene in overleaf), maar nu geeft hij een hele gekke grafiek\n",
    "\n",
    "dates = New_weather_steps['start']\n",
    "values = New_weather_steps['value_steps']\n",
    "\n",
    "fig, ax = plt.subplots()\n",
    "ax.plot(dates, values)\n",
    "\n",
    "# Set the number of desired ticks\n",
    "num_ticks = 50\n",
    "\n",
    "# Calculate the step size to evenly distribute the ticks\n",
    "step = len(dates) // (num_ticks - 1)\n",
    "\n",
    "ax.set_xlabel('Date')\n",
    "ax.set_ylabel('Number of steps')\n",
    "ax.set_title('the number of steps over time')\n",
    "\n",
    "\n",
    "plt.show()"
   ]
  },
  {
   "cell_type": "code",
   "execution_count": 94,
   "metadata": {},
   "outputs": [
    {
     "data": {
      "image/png": "[encoded data removed]",
      "text/plain": [
       "<Figure size 432x288 with 1 Axes>"
      ]
     },
     "metadata": {
      "needs_background": "light"
     },
     "output_type": "display_data"
    }
   ],
   "source": [
    "# Convert 'startDate' column to datetime objects\n",
    "New_weather_steps['start'] = pd.to_datetime(New_weather_steps['start'])\n",
    "\n",
    "dates = New_weather_steps['start']\n",
    "values = New_weather_steps['temp_celsius']\n",
    "\n",
    "fig, ax = plt.subplots()\n",
    "ax.plot(dates, values)\n",
    "\n",
    "# Set the number of desired ticks\n",
    "num_ticks = 5\n",
    "\n",
    "# Calculate the step size to evenly distribute the ticks\n",
    "step = len(dates) // (num_ticks - 1)\n",
    "\n",
    "ax.set_xlabel('Date')\n",
    "ax.set_ylabel('Temperature')\n",
    "ax.set_title('The temperature over time')\n",
    "\n",
    "\n",
    "plt.show()"
   ]
  },
  {
   "cell_type": "code",
   "execution_count": 95,
   "metadata": {},
   "outputs": [],
   "source": [
    "#Ik dacht misschien iets met pearson's correlation test, dus deze functie had ik uit de Python3Code gehaald. \n",
    "#Hij moet nog aangepast worden op onze set\n",
    "from scipy.stats import pearsonr\n",
    "from operator import itemgetter\n",
    "import numpy as np\n",
    "\n",
    "def pearson_selection(max_features, X_train, y_train):\n",
    "    correlations = []\n",
    "    full_columns_and_corr = []\n",
    "    abs_columns_and_corr = []\n",
    "\n",
    "    # Compute the absolute correlations per column.\n",
    "    for i in range(0, len(X_train.columns)):\n",
    "        corr, p = pearsonr(X_train[X_train.columns[i]], y_train)\n",
    "        correlations.append(abs(corr))\n",
    "        if np.isfinite(corr):\n",
    "            full_columns_and_corr.append((X_train.columns[i], corr))\n",
    "            abs_columns_and_corr.append((X_train.columns[i], abs(corr)))\n",
    "\n",
    "    sorted_attributes = sorted(abs_columns_and_corr,key=itemgetter(1), reverse=True)\n",
    "    res_list = [x[0] for x in sorted_attributes[0:max_features]]\n",
    "\n",
    "    # And return the most correlated ones.\n",
    "    return res_list, sorted(full_columns_and_corr,key=itemgetter(1), reverse=True)"
   ]
  },
  {
   "cell_type": "code",
   "execution_count": 2,
   "metadata": {},
   "outputs": [],
   "source": [
    "New_weather_steps.to_csv('New_weather_steps.csv')"
   ]
  }
 ],
 "metadata": {
  "kernelspec": {
   "display_name": "Python 3",
   "language": "python",
   "name": "python3"
  },
  "language_info": {
   "codemirror_mode": {
    "name": "ipython",
    "version": 3
   },
   "file_extension": ".py",
   "mimetype": "text/x-python",
   "name": "python",
   "nbconvert_exporter": "python",
   "pygments_lexer": "ipython3",
   "version": "3.9.13"
  },
  "orig_nbformat": 4
 },
 "nbformat": 4,
 "nbformat_minor": 2
}
